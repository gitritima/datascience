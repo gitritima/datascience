{
 "cells": [
  {
   "cell_type": "markdown",
   "metadata": {},
   "source": [
    "**- ways to create dict \n",
    "- how to access key and values\n",
    "- loops in dictionary**"
   ]
  },
  {
   "cell_type": "code",
   "execution_count": 1,
   "metadata": {},
   "outputs": [
    {
     "name": "stdout",
     "output_type": "stream",
     "text": [
      "{'name': 'John', 'class': '12th', 'roll_no': 2, 'age': 16}\n"
     ]
    }
   ],
   "source": [
    "student={\n",
    "    \"name\" : \"John\",\n",
    "    \"class\": \"12th\",\n",
    "    \"roll_no\":2,\n",
    "    \"age\":16}\n",
    "print(student)"
   ]
  },
  {
   "cell_type": "code",
   "execution_count": 8,
   "metadata": {},
   "outputs": [
    {
     "name": "stdout",
     "output_type": "stream",
     "text": [
      "{'lucknow': [25, 56, 67, 78], 'delhi': [20, 34, 56], 'mumbai': [46, 67, 23, 56]}\n"
     ]
    }
   ],
   "source": [
    "temp={\n",
    "    'lucknow':[25,56,67,78],\n",
    "    \"delhi\":[20,34,56],\n",
    "    \"mumbai\":[46,67,23,56]\n",
    "}\n",
    "print(temp)"
   ]
  },
  {
   "cell_type": "code",
   "execution_count": 9,
   "metadata": {},
   "outputs": [
    {
     "name": "stdout",
     "output_type": "stream",
     "text": [
      "{'name': 'John', 'age': 12, 'classs': '12th'}\n"
     ]
    }
   ],
   "source": [
    "info=dict(name='John',age=12, classs='12th')\n",
    "print(info)"
   ]
  },
  {
   "cell_type": "code",
   "execution_count": 10,
   "metadata": {},
   "outputs": [
    {
     "name": "stdout",
     "output_type": "stream",
     "text": [
      "{'name': 'ritima', 'age': 22, 'course': 'mca'}\n"
     ]
    }
   ],
   "source": [
    "info2=dict(name=input(\"Enter your name:\"),age=int(input(\"Enter your age:\")),course=input(\"Enter your course:\"))\n",
    "print(info2)"
   ]
  },
  {
   "cell_type": "code",
   "execution_count": 2,
   "metadata": {},
   "outputs": [
    {
     "name": "stdout",
     "output_type": "stream",
     "text": [
      "16\n",
      "John\n"
     ]
    }
   ],
   "source": [
    "#1st method\n",
    "print(student['age'])\n",
    "print(student['name'])"
   ]
  },
  {
   "cell_type": "code",
   "execution_count": 3,
   "metadata": {},
   "outputs": [
    {
     "name": "stdout",
     "output_type": "stream",
     "text": [
      "16\n",
      "John\n"
     ]
    }
   ],
   "source": [
    "#2nd method\n",
    "print(student.get('age'))\n",
    "print(student.get('name'))"
   ]
  },
  {
   "cell_type": "code",
   "execution_count": 4,
   "metadata": {},
   "outputs": [
    {
     "name": "stdout",
     "output_type": "stream",
     "text": [
      "{'name': 'John', 'class': '12th', 'roll_no': 2, 'age': 16, 'address': 'Lucknow'}\n"
     ]
    }
   ],
   "source": [
    "#to add a key-value pair\n",
    "student['address']='Lucknow'\n",
    "print(student)"
   ]
  },
  {
   "cell_type": "code",
   "execution_count": 5,
   "metadata": {},
   "outputs": [
    {
     "name": "stdout",
     "output_type": "stream",
     "text": [
      "{'name': 'John', 'class': '12th', 'roll_no': 2, 'age': 16, 'address': 'Lucknow', 'Pin Code': 363738}\n"
     ]
    }
   ],
   "source": [
    "student['Pin Code']=363738\n",
    "print(student)"
   ]
  },
  {
   "cell_type": "code",
   "execution_count": 6,
   "metadata": {},
   "outputs": [
    {
     "name": "stdout",
     "output_type": "stream",
     "text": [
      "name\n",
      "class\n",
      "roll_no\n",
      "age\n",
      "address\n",
      "Pin Code\n"
     ]
    }
   ],
   "source": [
    "for x in student:  #gives only keys\n",
    "    print(x)"
   ]
  },
  {
   "cell_type": "code",
   "execution_count": 7,
   "metadata": {},
   "outputs": [
    {
     "ename": "ValueError",
     "evalue": "too many values to unpack (expected 2)",
     "output_type": "error",
     "traceback": [
      "\u001b[1;31m---------------------------------------------------------------------------\u001b[0m",
      "\u001b[1;31mValueError\u001b[0m                                Traceback (most recent call last)",
      "Cell \u001b[1;32mIn[7], line 1\u001b[0m\n\u001b[1;32m----> 1\u001b[0m \u001b[38;5;28;01mfor\u001b[39;00m k, v \u001b[38;5;129;01min\u001b[39;00m student: \u001b[38;5;66;03m#NOT VALID\u001b[39;00m\n\u001b[0;32m      2\u001b[0m     \u001b[38;5;28mprint\u001b[39m(k,v)\n",
      "\u001b[1;31mValueError\u001b[0m: too many values to unpack (expected 2)"
     ]
    }
   ],
   "source": [
    "for k, v in student: #NOT VALID\n",
    "    print(k,v)"
   ]
  },
  {
   "cell_type": "code",
   "execution_count": null,
   "metadata": {},
   "outputs": [
    {
     "name": "stdout",
     "output_type": "stream",
     "text": [
      "name:John\n",
      "class:12th\n",
      "roll_no:2\n",
      "age:16\n",
      "address:Lucknow\n",
      "Pin Code:363738\n"
     ]
    }
   ],
   "source": [
    "for k,v in student.items(): #USING ITEMS() METHOD\n",
    "    print(f\"{k}:{v}\")\n"
   ]
  },
  {
   "cell_type": "code",
   "execution_count": null,
   "metadata": {},
   "outputs": [
    {
     "name": "stdout",
     "output_type": "stream",
     "text": [
      "dict_keys(['name', 'class', 'roll_no', 'age', 'address', 'Pin Code'])\n",
      "dict_values(['John', '12th', 2, 16, 'Lucknow', 363738])\n",
      "dict_items([('name', 'John'), ('class', '12th'), ('roll_no', 2), ('age', 16), ('address', 'Lucknow'), ('Pin Code', 363738)])\n"
     ]
    }
   ],
   "source": [
    "print(student.keys())\n",
    "print(student.values()) \n",
    "print(student.items()) #list of tuples"
   ]
  },
  {
   "cell_type": "code",
   "execution_count": 1,
   "metadata": {},
   "outputs": [
    {
     "name": "stdout",
     "output_type": "stream",
     "text": [
      "{'emp1': {'name': 'John', 'age': 24, 'city': 'Lucknow', 'salary': 25000}, 'emp2': {'name': 'Sam', 'age': 27, 'city': 'Delhi', 'salary': 29000}, 'emp3': {'name': 'Johnny', 'age': 20, 'city': 'Lucknow', 'salary': 29000}}\n"
     ]
    }
   ],
   "source": [
    "company= {\n",
    "    'emp1':{\n",
    "     'name':'John',\n",
    "     'age':24,\n",
    "     'city':'Lucknow',\n",
    "     'salary':25000\n",
    "    },\n",
    " 'emp2':{\n",
    "     'name':'Sam',\n",
    "     'age':27,\n",
    "     'city':'Delhi',\n",
    "     'salary':29000\n",
    "\n",
    "    },\n",
    "    'emp3':{\n",
    "     'name':'Johnny',\n",
    "     'age':20,\n",
    "     'city':'Lucknow',\n",
    "     'salary':29000\n",
    "    }\n",
    "}\n",
    "print(company)"
   ]
  },
  {
   "cell_type": "code",
   "execution_count": 2,
   "metadata": {},
   "outputs": [],
   "source": [
    "from pprint import pprint"
   ]
  },
  {
   "cell_type": "code",
   "execution_count": 3,
   "metadata": {},
   "outputs": [
    {
     "name": "stdout",
     "output_type": "stream",
     "text": [
      "{'emp1': {'age': 24, 'city': 'Lucknow', 'name': 'John', 'salary': 25000},\n",
      " 'emp2': {'age': 27, 'city': 'Delhi', 'name': 'Sam', 'salary': 29000},\n",
      " 'emp3': {'age': 20, 'city': 'Lucknow', 'name': 'Johnny', 'salary': 29000}}\n"
     ]
    }
   ],
   "source": [
    "pprint(company)"
   ]
  }
 ],
 "metadata": {
  "kernelspec": {
   "display_name": "Python 3.9.12 ('base')",
   "language": "python",
   "name": "python3"
  },
  "language_info": {
   "codemirror_mode": {
    "name": "ipython",
    "version": 3
   },
   "file_extension": ".py",
   "mimetype": "text/x-python",
   "name": "python",
   "nbconvert_exporter": "python",
   "pygments_lexer": "ipython3",
   "version": "3.12.8"
  },
  "orig_nbformat": 4,
  "vscode": {
   "interpreter": {
    "hash": "103054210cdc8467ef652550f81257da9ab1b95d07e6053628567596254d0d33"
   }
  }
 },
 "nbformat": 4,
 "nbformat_minor": 2
}
