{
 "cells": [
  {
   "cell_type": "markdown",
   "metadata": {},
   "source": [
    "**- ways to create dict \n",
    "- how to access key and values\n",
    "- loops in dictionary**"
   ]
  },
  {
   "cell_type": "code",
   "execution_count": 1,
   "metadata": {},
   "outputs": [
    {
     "name": "stdout",
     "output_type": "stream",
     "text": [
      "{'name': 'John', 'class': '12th', 'roll_no': 2, 'age': 16}\n"
     ]
    }
   ],
   "source": [
    "student={\n",
    "    \"name\" : \"John\",\n",
    "    \"class\": \"12th\",\n",
    "    \"roll_no\":2,\n",
    "    \"age\":16}\n",
    "print(student)"
   ]
  },
  {
   "cell_type": "code",
   "execution_count": 2,
   "metadata": {},
   "outputs": [
    {
     "name": "stdout",
     "output_type": "stream",
     "text": [
      "16\n",
      "John\n"
     ]
    }
   ],
   "source": [
    "#1st method\n",
    "print(student['age'])\n",
    "print(student['name'])"
   ]
  },
  {
   "cell_type": "code",
   "execution_count": 3,
   "metadata": {},
   "outputs": [
    {
     "name": "stdout",
     "output_type": "stream",
     "text": [
      "16\n",
      "John\n"
     ]
    }
   ],
   "source": [
    "#2nd method\n",
    "print(student.get('age'))\n",
    "print(student.get('name'))"
   ]
  },
  {
   "cell_type": "code",
   "execution_count": 4,
   "metadata": {},
   "outputs": [
    {
     "name": "stdout",
     "output_type": "stream",
     "text": [
      "{'name': 'John', 'class': '12th', 'roll_no': 2, 'age': 16, 'address': 'Lucknow'}\n"
     ]
    }
   ],
   "source": [
    "#to add a key-value pair\n",
    "student['address']='Lucknow'\n",
    "print(student)"
   ]
  },
  {
   "cell_type": "code",
   "execution_count": 5,
   "metadata": {},
   "outputs": [
    {
     "name": "stdout",
     "output_type": "stream",
     "text": [
      "{'name': 'John', 'class': '12th', 'roll_no': 2, 'age': 16, 'address': 'Lucknow', 'Pin Code': 363738}\n"
     ]
    }
   ],
   "source": [
    "student['Pin Code']=363738\n",
    "print(student)"
   ]
  },
  {
   "cell_type": "code",
   "execution_count": 6,
   "metadata": {},
   "outputs": [
    {
     "name": "stdout",
     "output_type": "stream",
     "text": [
      "name\n",
      "class\n",
      "roll_no\n",
      "age\n",
      "address\n",
      "Pin Code\n"
     ]
    }
   ],
   "source": [
    "for x in student:  #gives only keys\n",
    "    print(x)"
   ]
  },
  {
   "cell_type": "code",
   "execution_count": 7,
   "metadata": {},
   "outputs": [
    {
     "ename": "ValueError",
     "evalue": "too many values to unpack (expected 2)",
     "output_type": "error",
     "traceback": [
      "\u001b[1;31m---------------------------------------------------------------------------\u001b[0m",
      "\u001b[1;31mValueError\u001b[0m                                Traceback (most recent call last)",
      "\u001b[1;32mc:\\Users\\ritim\\OneDrive\\Documents\\datascience\\Datastructures\\dict.ipynb Cell 8\u001b[0m in \u001b[0;36m<cell line: 1>\u001b[1;34m()\u001b[0m\n\u001b[1;32m----> <a href='vscode-notebook-cell:/c%3A/Users/ritim/OneDrive/Documents/datascience/Datastructures/dict.ipynb#X12sZmlsZQ%3D%3D?line=0'>1</a>\u001b[0m \u001b[39mfor\u001b[39;00m k, v \u001b[39min\u001b[39;00m student:\n\u001b[0;32m      <a href='vscode-notebook-cell:/c%3A/Users/ritim/OneDrive/Documents/datascience/Datastructures/dict.ipynb#X12sZmlsZQ%3D%3D?line=1'>2</a>\u001b[0m     \u001b[39mprint\u001b[39m(k,v)\n",
      "\u001b[1;31mValueError\u001b[0m: too many values to unpack (expected 2)"
     ]
    }
   ],
   "source": [
    "for k, v in student: #NOT VALID\n",
    "    print(k,v)"
   ]
  },
  {
   "cell_type": "code",
   "execution_count": 9,
   "metadata": {},
   "outputs": [
    {
     "name": "stdout",
     "output_type": "stream",
     "text": [
      "name:John\n",
      "class:12th\n",
      "roll_no:2\n",
      "age:16\n",
      "address:Lucknow\n",
      "Pin Code:363738\n"
     ]
    }
   ],
   "source": [
    "for k,v in student.items(): #USING ITEMS() METHOD\n",
    "    print(f\"{k}:{v}\")\n"
   ]
  },
  {
   "cell_type": "code",
   "execution_count": 10,
   "metadata": {},
   "outputs": [
    {
     "name": "stdout",
     "output_type": "stream",
     "text": [
      "dict_keys(['name', 'class', 'roll_no', 'age', 'address', 'Pin Code'])\n",
      "dict_values(['John', '12th', 2, 16, 'Lucknow', 363738])\n",
      "dict_items([('name', 'John'), ('class', '12th'), ('roll_no', 2), ('age', 16), ('address', 'Lucknow'), ('Pin Code', 363738)])\n"
     ]
    }
   ],
   "source": [
    "print(student.keys())\n",
    "print(student.values()) \n",
    "print(student.items()) #list of tuples"
   ]
  }
 ],
 "metadata": {
  "kernelspec": {
   "display_name": "Python 3.9.12 ('base')",
   "language": "python",
   "name": "python3"
  },
  "language_info": {
   "codemirror_mode": {
    "name": "ipython",
    "version": 3
   },
   "file_extension": ".py",
   "mimetype": "text/x-python",
   "name": "python",
   "nbconvert_exporter": "python",
   "pygments_lexer": "ipython3",
   "version": "3.9.12"
  },
  "orig_nbformat": 4,
  "vscode": {
   "interpreter": {
    "hash": "103054210cdc8467ef652550f81257da9ab1b95d07e6053628567596254d0d33"
   }
  }
 },
 "nbformat": 4,
 "nbformat_minor": 2
}
