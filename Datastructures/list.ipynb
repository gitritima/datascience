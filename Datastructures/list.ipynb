{
 "cells": [
  {
   "cell_type": "code",
   "execution_count": 11,
   "metadata": {},
   "outputs": [
    {
     "name": "stdout",
     "output_type": "stream",
     "text": [
      "['drive', 'mail', 'insta', 'phone', 'contacts', 'facebook', 'camera', 'gallery', 'calculator', 'files']\n"
     ]
    }
   ],
   "source": [
    "list=['drive','mail','insta','phone','contacts','facebook','camera','gallery','calculator','files']\n",
    "print(list)"
   ]
  },
  {
   "cell_type": "markdown",
   "metadata": {},
   "source": [
    "INDEXING"
   ]
  },
  {
   "cell_type": "code",
   "execution_count": 12,
   "metadata": {},
   "outputs": [
    {
     "name": "stdout",
     "output_type": "stream",
     "text": [
      "insta\n",
      "facebook\n"
     ]
    }
   ],
   "source": [
    "print(list[2])\n",
    "print(list[5])"
   ]
  },
  {
   "cell_type": "code",
   "execution_count": 13,
   "metadata": {},
   "outputs": [
    {
     "name": "stdout",
     "output_type": "stream",
     "text": [
      "gallery\n",
      "drive\n"
     ]
    }
   ],
   "source": [
    "print(list[-3])\n",
    "print(list[-10])"
   ]
  },
  {
   "cell_type": "markdown",
   "metadata": {},
   "source": [
    "SLICING"
   ]
  },
  {
   "cell_type": "code",
   "execution_count": 14,
   "metadata": {},
   "outputs": [
    {
     "name": "stdout",
     "output_type": "stream",
     "text": [
      "['insta', 'phone', 'contacts', 'facebook', 'camera', 'gallery']\n",
      "['drive', 'mail', 'insta', 'phone', 'contacts']\n",
      "['facebook', 'camera', 'gallery', 'calculator', 'files']\n",
      "['drive', 'mail', 'insta', 'phone', 'contacts', 'facebook', 'camera', 'gallery', 'calculator', 'files']\n",
      "['facebook', 'camera', 'gallery', 'calculator', 'files']\n"
     ]
    }
   ],
   "source": [
    "print(list[2:8])\n",
    "print(list[:5])\n",
    "print(list[5:])\n",
    "print(list[:])\n",
    "print(list[-5:])"
   ]
  },
  {
   "cell_type": "code",
   "execution_count": 15,
   "metadata": {},
   "outputs": [
    {
     "name": "stdout",
     "output_type": "stream",
     "text": [
      "['drive', 'insta', 'contacts', 'camera', 'calculator']\n"
     ]
    }
   ],
   "source": [
    "print(list[0::2])"
   ]
  },
  {
   "cell_type": "markdown",
   "metadata": {},
   "source": [
    "METHODS OF LIST\n",
    "\n",
    "->append- to add item at end of the list\n",
    "->insert - to add item at specific index\n",
    "->pop - to delete item at specific location\n",
    "->remove - to delete item using items name\n",
    "->sort - to arrange item in any order\n",
    "->copy - to make a copy of the list\n",
    "->extend - to combine two list\n",
    "->clear - to delete all items from the list"
   ]
  },
  {
   "cell_type": "code",
   "execution_count": 16,
   "metadata": {},
   "outputs": [
    {
     "name": "stdout",
     "output_type": "stream",
     "text": [
      "['drive', 'mail', 'insta', 'phone', 'contacts', 'facebook', 'camera', 'gallery', 'calculator', 'files']\n"
     ]
    }
   ],
   "source": [
    "print(list)"
   ]
  },
  {
   "cell_type": "code",
   "execution_count": 17,
   "metadata": {},
   "outputs": [
    {
     "name": "stdout",
     "output_type": "stream",
     "text": [
      "['drive', 'mail', 'insta', 'phone', 'contacts', 'facebook', 'camera', 'gallery', 'calculator', 'files', 'zomato']\n"
     ]
    }
   ],
   "source": [
    "list.append('zomato')\n",
    "print(list)"
   ]
  },
  {
   "cell_type": "code",
   "execution_count": 18,
   "metadata": {},
   "outputs": [
    {
     "name": "stdout",
     "output_type": "stream",
     "text": [
      "['drive', 'mail', 'insta', 'google', 'phone', 'contacts', 'facebook', 'camera', 'gallery', 'calculator', 'files', 'zomato']\n"
     ]
    }
   ],
   "source": [
    "list.insert(3,'google')\n",
    "print(list)"
   ]
  },
  {
   "cell_type": "code",
   "execution_count": 19,
   "metadata": {},
   "outputs": [
    {
     "name": "stdout",
     "output_type": "stream",
     "text": [
      "['drive', 'mail', 'insta', 'google', 'phone', 'contacts', 'facebook', 'camera', 'gallery', 'calculator', 'files']\n"
     ]
    }
   ],
   "source": [
    "list.pop(11)\n",
    "print(list)"
   ]
  },
  {
   "cell_type": "code",
   "execution_count": 20,
   "metadata": {},
   "outputs": [
    {
     "ename": "ValueError",
     "evalue": "list.remove(x): x not in list",
     "output_type": "error",
     "traceback": [
      "\u001b[1;31m---------------------------------------------------------------------------\u001b[0m",
      "\u001b[1;31mValueError\u001b[0m                                Traceback (most recent call last)",
      "Cell \u001b[1;32mIn[20], line 1\u001b[0m\n\u001b[1;32m----> 1\u001b[0m \u001b[38;5;28mlist\u001b[39m\u001b[38;5;241m.\u001b[39mremove(\u001b[38;5;124m'\u001b[39m\u001b[38;5;124mzomato\u001b[39m\u001b[38;5;124m'\u001b[39m)\n\u001b[0;32m      2\u001b[0m \u001b[38;5;28mprint\u001b[39m(\u001b[38;5;28mlist\u001b[39m)\n",
      "\u001b[1;31mValueError\u001b[0m: list.remove(x): x not in list"
     ]
    }
   ],
   "source": [
    "list.remove('zomato')\n",
    "print(list)"
   ]
  },
  {
   "cell_type": "code",
   "execution_count": null,
   "metadata": {},
   "outputs": [
    {
     "name": "stdout",
     "output_type": "stream",
     "text": [
      "['blinkit', 'calculator', 'camera', 'contacts', 'drive', 'facebook', 'files', 'gallery', 'google', 'insta', 'mail', 'phone']\n"
     ]
    }
   ],
   "source": [
    "list.sort()\n",
    "print(list)"
   ]
  },
  {
   "cell_type": "code",
   "execution_count": null,
   "metadata": {},
   "outputs": [
    {
     "name": "stdout",
     "output_type": "stream",
     "text": [
      "['blinkit', 'calculator', 'camera', 'contacts', 'drive', 'facebook', 'files', 'gallery', 'google', 'insta', 'mail', 'phone']\n"
     ]
    }
   ],
   "source": [
    "list2=list.copy()\n",
    "print(list2)"
   ]
  },
  {
   "cell_type": "code",
   "execution_count": null,
   "metadata": {},
   "outputs": [
    {
     "name": "stdout",
     "output_type": "stream",
     "text": [
      "[]\n"
     ]
    }
   ],
   "source": [
    "list2.clear()\n",
    "print(list2)"
   ]
  },
  {
   "cell_type": "code",
   "execution_count": null,
   "metadata": {},
   "outputs": [
    {
     "name": "stdout",
     "output_type": "stream",
     "text": [
      "['zomato', 'linkedin', 'canva', 'calender', 'blinkit', 'calculator', 'camera', 'contacts', 'drive', 'facebook', 'files', 'gallery', 'google', 'insta', 'mail', 'phone']\n"
     ]
    }
   ],
   "source": [
    "lst=['zomato','linkedin','canva','calender']\n",
    "lst.extend(list)\n",
    "print(lst)\n"
   ]
  }
 ],
 "metadata": {
  "kernelspec": {
   "display_name": "Python 3.9.12 ('base')",
   "language": "python",
   "name": "python3"
  },
  "language_info": {
   "codemirror_mode": {
    "name": "ipython",
    "version": 3
   },
   "file_extension": ".py",
   "mimetype": "text/x-python",
   "name": "python",
   "nbconvert_exporter": "python",
   "pygments_lexer": "ipython3",
   "version": "3.12.8"
  },
  "orig_nbformat": 4,
  "vscode": {
   "interpreter": {
    "hash": "103054210cdc8467ef652550f81257da9ab1b95d07e6053628567596254d0d33"
   }
  }
 },
 "nbformat": 4,
 "nbformat_minor": 2
}
