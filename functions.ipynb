{
 "cells": [
  {
   "cell_type": "code",
   "execution_count": 40,
   "metadata": {},
   "outputs": [],
   "source": [
    "def myfunc():  #defining a function\n",
    "    print('Hello from myfunc')"
   ]
  },
  {
   "cell_type": "code",
   "execution_count": 41,
   "metadata": {},
   "outputs": [
    {
     "name": "stdout",
     "output_type": "stream",
     "text": [
      "Hello from myfunc\n"
     ]
    }
   ],
   "source": [
    "myfunc() #calling a function"
   ]
  },
  {
   "cell_type": "code",
   "execution_count": 42,
   "metadata": {},
   "outputs": [],
   "source": [
    "#parameterized function\n",
    "def name(name):\n",
    "    print(\"hello \" + name)"
   ]
  },
  {
   "cell_type": "code",
   "execution_count": 43,
   "metadata": {},
   "outputs": [
    {
     "name": "stdout",
     "output_type": "stream",
     "text": [
      "hello ritima\n",
      "None\n"
     ]
    }
   ],
   "source": [
    "b=name(\"ritima\") #arguments\n",
    "print(b)"
   ]
  },
  {
   "cell_type": "code",
   "execution_count": 49,
   "metadata": {},
   "outputs": [],
   "source": [
    "def func(name):\n",
    "    return \"Hello \" + name   #return is used when you want to store value"
   ]
  },
  {
   "cell_type": "code",
   "execution_count": 45,
   "metadata": {},
   "outputs": [
    {
     "name": "stdout",
     "output_type": "stream",
     "text": [
      "Hello Ritima\n"
     ]
    }
   ],
   "source": [
    "k=func('Ritima')\n",
    "print(k)"
   ]
  },
  {
   "cell_type": "code",
   "execution_count": 50,
   "metadata": {},
   "outputs": [
    {
     "data": {
      "text/plain": [
       "'Hello Ritima'"
      ]
     },
     "execution_count": 50,
     "metadata": {},
     "output_type": "execute_result"
    }
   ],
   "source": [
    "k"
   ]
  },
  {
   "cell_type": "code",
   "execution_count": 15,
   "metadata": {},
   "outputs": [],
   "source": [
    "def add(num1,num2,num3):\n",
    "    return num1+num2+num3\n",
    "    "
   ]
  },
  {
   "cell_type": "code",
   "execution_count": 16,
   "metadata": {},
   "outputs": [
    {
     "data": {
      "text/plain": [
       "15"
      ]
     },
     "execution_count": 16,
     "metadata": {},
     "output_type": "execute_result"
    }
   ],
   "source": [
    "add(4,5,6)"
   ]
  },
  {
   "cell_type": "code",
   "execution_count": 48,
   "metadata": {},
   "outputs": [
    {
     "data": {
      "text/plain": [
       "24"
      ]
     },
     "execution_count": 48,
     "metadata": {},
     "output_type": "execute_result"
    }
   ],
   "source": [
    "add(7,8,9)"
   ]
  },
  {
   "cell_type": "code",
   "execution_count": 60,
   "metadata": {},
   "outputs": [
    {
     "data": {
      "text/plain": [
       "'India'"
      ]
     },
     "execution_count": 60,
     "metadata": {},
     "output_type": "execute_result"
    }
   ],
   "source": [
    "#default parametrized function\n",
    "def mycoun(country='India'):\n",
    "    return country\n",
    "mycoun('dubai')\n",
    "mycoun()"
   ]
  },
  {
   "cell_type": "code",
   "execution_count": 59,
   "metadata": {},
   "outputs": [
    {
     "name": "stdout",
     "output_type": "stream",
     "text": [
      "apple\n",
      "banana\n",
      "cherry\n"
     ]
    }
   ],
   "source": [
    "\n",
    "def fruits(fruit):\n",
    "    for x in fruit:\n",
    "        print(x)\n",
    "fruits(['apple','banana','cherry'])"
   ]
  },
  {
   "cell_type": "code",
   "execution_count": 62,
   "metadata": {},
   "outputs": [
    {
     "name": "stdout",
     "output_type": "stream",
     "text": [
      "9\n"
     ]
    }
   ],
   "source": [
    "#lambda function\n",
    "add=lambda a,b :a+b\n",
    "print(add(4,5))"
   ]
  },
  {
   "cell_type": "code",
   "execution_count": 63,
   "metadata": {},
   "outputs": [
    {
     "name": "stdout",
     "output_type": "stream",
     "text": [
      "False\n"
     ]
    }
   ],
   "source": [
    "even=lambda num : num%2==0\n",
    "print(even(7))"
   ]
  },
  {
   "cell_type": "code",
   "execution_count": 65,
   "metadata": {},
   "outputs": [
    {
     "data": {
      "text/plain": [
       "('welcome', 'to', 'digipodium')"
      ]
     },
     "execution_count": 65,
     "metadata": {},
     "output_type": "execute_result"
    }
   ],
   "source": [
    "def digi():\n",
    "    return 'welcome','to','digipodium'\n",
    "digi()"
   ]
  },
  {
   "cell_type": "code",
   "execution_count": 67,
   "metadata": {},
   "outputs": [
    {
     "name": "stdout",
     "output_type": "stream",
     "text": [
      "to\n"
     ]
    }
   ],
   "source": [
    "a,b,c=digi()\n",
    "print(b)"
   ]
  },
  {
   "cell_type": "markdown",
   "metadata": {},
   "source": [
    "# Built in Functions"
   ]
  },
  {
   "cell_type": "code",
   "execution_count": 68,
   "metadata": {},
   "outputs": [],
   "source": [
    "import math"
   ]
  },
  {
   "cell_type": "code",
   "execution_count": 70,
   "metadata": {},
   "outputs": [
    {
     "name": "stdout",
     "output_type": "stream",
     "text": [
      "4.0\n",
      "3.141592653589793\n",
      "2.718281828459045\n",
      "0.8939966636005579\n"
     ]
    }
   ],
   "source": [
    "print(math.sqrt(16))\n",
    "print(math.pi)\n",
    "print(math.e)\n",
    "print(math.sin(90))\n"
   ]
  },
  {
   "cell_type": "code",
   "execution_count": 2,
   "metadata": {},
   "outputs": [],
   "source": [
    "from random import random,randint,choice,shuffle"
   ]
  },
  {
   "cell_type": "code",
   "execution_count": 5,
   "metadata": {},
   "outputs": [
    {
     "name": "stdout",
     "output_type": "stream",
     "text": [
      "get a random number between 0 and 1: 0.6467157241909733\n",
      "get a random number between 1 and 100 53\n",
      "get a random number from a list 3\n",
      "shuffle a list: [5, 2, 4, 1, 3]\n"
     ]
    }
   ],
   "source": [
    "print('get a random number between 0 and 1:',random())\n",
    "print('get a random number between 1 and 100',randint(1,100))\n",
    "print('get a random number from a list',choice([1,2,3,4,5]))\n",
    "num=[1,2,3,4,5]\n",
    "shuffle(num)\n",
    "print('shuffle a list:',num)"
   ]
  },
  {
   "cell_type": "markdown",
   "metadata": {},
   "source": [
    "-check a number is prime or not\n",
    "-convert temp to celcius\n",
    "-find max of three numbers\n",
    "-calculate factorial\n",
    "-reverse of a string\n",
    "-count vowel in a string\n",
    "-calculate BMI(body mass index)"
   ]
  },
  {
   "cell_type": "code",
   "execution_count": 87,
   "metadata": {},
   "outputs": [
    {
     "ename": "UnboundLocalError",
     "evalue": "local variable 'c' referenced before assignment",
     "output_type": "error",
     "traceback": [
      "\u001b[1;31m---------------------------------------------------------------------------\u001b[0m",
      "\u001b[1;31mUnboundLocalError\u001b[0m                         Traceback (most recent call last)",
      "\u001b[1;32mc:\\Users\\ritim\\OneDrive\\Documents\\datascience\\functions.ipynb Cell 23\u001b[0m in \u001b[0;36m<cell line: 7>\u001b[1;34m()\u001b[0m\n\u001b[0;32m      <a href='vscode-notebook-cell:/c%3A/Users/ritim/OneDrive/Documents/datascience/functions.ipynb#X36sZmlsZQ%3D%3D?line=4'>5</a>\u001b[0m     \u001b[39mif\u001b[39;00m c\u001b[39m==\u001b[39m\u001b[39m1\u001b[39m:\n\u001b[0;32m      <a href='vscode-notebook-cell:/c%3A/Users/ritim/OneDrive/Documents/datascience/functions.ipynb#X36sZmlsZQ%3D%3D?line=5'>6</a>\u001b[0m         \u001b[39mprint\u001b[39m(\u001b[39m\"\u001b[39m\u001b[39mPrime number\u001b[39m\u001b[39m\"\u001b[39m)\n\u001b[1;32m----> <a href='vscode-notebook-cell:/c%3A/Users/ritim/OneDrive/Documents/datascience/functions.ipynb#X36sZmlsZQ%3D%3D?line=6'>7</a>\u001b[0m prime(\u001b[39m5\u001b[39;49m)\n",
      "\u001b[1;32mc:\\Users\\ritim\\OneDrive\\Documents\\datascience\\functions.ipynb Cell 23\u001b[0m in \u001b[0;36mprime\u001b[1;34m(num)\u001b[0m\n\u001b[0;32m      <a href='vscode-notebook-cell:/c%3A/Users/ritim/OneDrive/Documents/datascience/functions.ipynb#X36sZmlsZQ%3D%3D?line=1'>2</a>\u001b[0m \u001b[39mfor\u001b[39;00m x \u001b[39min\u001b[39;00m \u001b[39mrange\u001b[39m(\u001b[39m1\u001b[39m,num):\n\u001b[0;32m      <a href='vscode-notebook-cell:/c%3A/Users/ritim/OneDrive/Documents/datascience/functions.ipynb#X36sZmlsZQ%3D%3D?line=2'>3</a>\u001b[0m     \u001b[39mif\u001b[39;00m (num\u001b[39m%\u001b[39mx )\u001b[39m==\u001b[39m\u001b[39m0\u001b[39m:\n\u001b[1;32m----> <a href='vscode-notebook-cell:/c%3A/Users/ritim/OneDrive/Documents/datascience/functions.ipynb#X36sZmlsZQ%3D%3D?line=3'>4</a>\u001b[0m      c \u001b[39m+\u001b[39m\u001b[39m=\u001b[39m\u001b[39m1\u001b[39m\n\u001b[0;32m      <a href='vscode-notebook-cell:/c%3A/Users/ritim/OneDrive/Documents/datascience/functions.ipynb#X36sZmlsZQ%3D%3D?line=4'>5</a>\u001b[0m \u001b[39mif\u001b[39;00m c\u001b[39m==\u001b[39m\u001b[39m1\u001b[39m:\n\u001b[0;32m      <a href='vscode-notebook-cell:/c%3A/Users/ritim/OneDrive/Documents/datascience/functions.ipynb#X36sZmlsZQ%3D%3D?line=5'>6</a>\u001b[0m     \u001b[39mprint\u001b[39m(\u001b[39m\"\u001b[39m\u001b[39mPrime number\u001b[39m\u001b[39m\"\u001b[39m)\n",
      "\u001b[1;31mUnboundLocalError\u001b[0m: local variable 'c' referenced before assignment"
     ]
    }
   ],
   "source": [
    "\n",
    "def prime(num):\n",
    "    for x in range(1,num):\n",
    "        if (num%x )==0:\n",
    "         c +=1\n",
    "    if c==1:\n",
    "        print(\"Prime number\")\n",
    "prime(5)\n"
   ]
  },
  {
   "cell_type": "code",
   "execution_count": 88,
   "metadata": {},
   "outputs": [
    {
     "data": {
      "text/plain": [
       "7"
      ]
     },
     "execution_count": 88,
     "metadata": {},
     "output_type": "execute_result"
    }
   ],
   "source": [
    "def max(a,b,c):\n",
    "    if a>b & a>c:\n",
    "        return a\n",
    "    if b>a & b>c:\n",
    "        return b\n",
    "    else:\n",
    "        return c\n",
    "max(2,5,7)"
   ]
  },
  {
   "cell_type": "code",
   "execution_count": 8,
   "metadata": {},
   "outputs": [
    {
     "data": {
      "text/plain": [
       "5"
      ]
     },
     "execution_count": 8,
     "metadata": {},
     "output_type": "execute_result"
    }
   ],
   "source": [
    "f=1\n",
    "def fact(num):\n",
    "    if num==0:\n",
    "        return 1\n",
    "    else:\n",
    "        for i in range(1,num):\n",
    "            return f*num\n",
    "            \n",
    "fact(5)"
   ]
  },
  {
   "cell_type": "code",
   "execution_count": 9,
   "metadata": {},
   "outputs": [
    {
     "name": "stdout",
     "output_type": "stream",
     "text": [
      "Cureent date ans time: 2024-12-21 18:27:34.002100\n",
      "current date 2024-12-21\n",
      "current time 18:27:34.002100\n",
      "current year 2024\n",
      "current Month 12\n",
      "current day 21\n",
      "current hour 18\n",
      "current minute 27\n",
      "current second 34\n",
      "current microsecond 2100\n"
     ]
    }
   ],
   "source": [
    "from datetime import datetime as dt\n",
    "print(\"Cureent date ans time:\",dt.now())\n",
    "print(\"current date\",dt.now().date())\n",
    "print(\"current time\",dt.now().time())\n",
    "print('current year',dt.now().year)\n",
    "print(\"current Month\",dt.now().month)\n",
    "print(\"current day\",dt.now().day)\n",
    "print(\"current hour\",dt.now().hour)\n",
    "print(\"current minute\",dt.now().minute)\n",
    "print(\"current second\",dt.now().second)\n",
    "print(\"current microsecond\",dt.now().microsecond)"
   ]
  },
  {
   "cell_type": "code",
   "execution_count": 11,
   "metadata": {},
   "outputs": [
    {
     "name": "stdout",
     "output_type": "stream",
     "text": [
      "Date in dd-mm-yyyy format: 21-12-2024\n"
     ]
    }
   ],
   "source": [
    "date=dt.strftime(dt.now(),'%d-%m-%Y')\n",
    "print('Date in dd-mm-yyyy format:',date)"
   ]
  },
  {
   "cell_type": "code",
   "execution_count": 16,
   "metadata": {},
   "outputs": [
    {
     "name": "stdout",
     "output_type": "stream",
     "text": [
      "Time in 24 hour format 18:41:15\n"
     ]
    }
   ],
   "source": [
    "time=dt.strftime(dt.now(),'%H:%M:%S')\n",
    "print('Time in 24 hour format',time)"
   ]
  },
  {
   "cell_type": "code",
   "execution_count": 14,
   "metadata": {},
   "outputs": [],
   "source": [
    "import os"
   ]
  },
  {
   "cell_type": "code",
   "execution_count": 17,
   "metadata": {},
   "outputs": [
    {
     "name": "stdout",
     "output_type": "stream",
     "text": [
      "Current working directory: c:\\Users\\ritim\\OneDrive\\Documents\\datascience\n"
     ]
    }
   ],
   "source": [
    "print('Current working directory:',os.getcwd())\n"
   ]
  },
  {
   "cell_type": "code",
   "execution_count": 19,
   "metadata": {},
   "outputs": [
    {
     "name": "stdout",
     "output_type": "stream",
     "text": [
      "Files in current directory ['.git', 'calculator.py', 'conditions.ipynb', 'Dashboard', 'Datastructures', 'functions.ipynb', 'home.py', 'loops.ipynb', 'ques.ipynb', 'variable.ipynb']\n",
      "10 files found\n"
     ]
    }
   ],
   "source": [
    "files=os.listdir()\n",
    "print('Files in current directory',files)\n",
    "print(len(files),'files found')\n"
   ]
  },
  {
   "cell_type": "code",
   "execution_count": 21,
   "metadata": {},
   "outputs": [
    {
     "name": "stdout",
     "output_type": "stream",
     "text": [
      "files in current directory ['CodSoft_Task3', 'IRIS.csv', 'iris.ipynb']\n",
      "3 files found\n"
     ]
    }
   ],
   "source": [
    "file=os.listdir(r\"C:\\Users\\ritim\\OneDrive\\Documents\\Iris Flower\") #r= raw string(when you want to make slash identify as a slash\n",
    "# because slash indicate as path recogniztion. and if r is not there it will identify as a string character\n",
    "#  because it is in inverted commas)\n",
    "print('files in current directory',file)\n",
    "print(len(file),'files found')"
   ]
  },
  {
   "cell_type": "code",
   "execution_count": 22,
   "metadata": {},
   "outputs": [
    {
     "data": {
      "text/plain": [
       "<generator object walk at 0x000001C8532C5180>"
      ]
     },
     "execution_count": 22,
     "metadata": {},
     "output_type": "execute_result"
    }
   ],
   "source": [
    "os.walk('C')\n"
   ]
  },
  {
   "cell_type": "code",
   "execution_count": 23,
   "metadata": {},
   "outputs": [
    {
     "name": "stdout",
     "output_type": "stream",
     "text": [
      "0 files found\n"
     ]
    }
   ],
   "source": [
    "total_files = 0\n",
    "for path,folders,files in os.walk(\"C\"):\n",
    "    total_files +=len(files)\n",
    "    print('=>',path)\n",
    "    print('$',folders)\n",
    "    print(\"*\",files)\n",
    "print(total_files,'files found')\n"
   ]
  }
 ],
 "metadata": {
  "kernelspec": {
   "display_name": "Python 3.9.12 ('base')",
   "language": "python",
   "name": "python3"
  },
  "language_info": {
   "codemirror_mode": {
    "name": "ipython",
    "version": 3
   },
   "file_extension": ".py",
   "mimetype": "text/x-python",
   "name": "python",
   "nbconvert_exporter": "python",
   "pygments_lexer": "ipython3",
   "version": "3.12.8"
  },
  "orig_nbformat": 4,
  "vscode": {
   "interpreter": {
    "hash": "103054210cdc8467ef652550f81257da9ab1b95d07e6053628567596254d0d33"
   }
  }
 },
 "nbformat": 4,
 "nbformat_minor": 2
}
