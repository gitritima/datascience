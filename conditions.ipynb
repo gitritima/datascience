{
 "cells": [
  {
   "cell_type": "markdown",
   "metadata": {},
   "source": [
    "conditions statements\n",
    "1.if\n",
    "2.elif\n",
    "3.nested if\n",
    "4.switch case"
   ]
  },
  {
   "cell_type": "code",
   "execution_count": 6,
   "metadata": {},
   "outputs": [
    {
     "name": "stdout",
     "output_type": "stream",
     "text": [
      "Grade A\n",
      "Grade B\n"
     ]
    }
   ],
   "source": [
    "marks= 89\n",
    "if marks > 90:\n",
    "    print(\"Grade A+\")\n",
    "if marks >=70:\n",
    "    print(\"Grade A\")\n",
    "if marks >= 60:\n",
    "    print(\"Grade B\")\n",
    "if marks < 40:\n",
    "    print(\"Poor performance\")"
   ]
  },
  {
   "cell_type": "code",
   "execution_count": 7,
   "metadata": {},
   "outputs": [
    {
     "name": "stdout",
     "output_type": "stream",
     "text": [
      "Grade A\n"
     ]
    }
   ],
   "source": [
    "marks= 89\n",
    "if marks > 90:\n",
    "    print(\"Grade A+\")\n",
    "elif marks >=70:\n",
    "    print(\"Grade A\")\n",
    "elif marks >= 60:\n",
    "    print(\"Grade B\")\n",
    "elif marks < 40:\n",
    "    print(\"Poor performance\")\n",
    "else:\n",
    "    print(\"Fail\")"
   ]
  },
  {
   "cell_type": "code",
   "execution_count": 9,
   "metadata": {},
   "outputs": [
    {
     "name": "stdout",
     "output_type": "stream",
     "text": [
      "Eligible to vote\n"
     ]
    }
   ],
   "source": [
    "age= 23\n",
    "if age > 18:\n",
    "    print(\"Eligible to vote\")\n",
    "else:\n",
    "    print(\"Not Eligible\")"
   ]
  },
  {
   "cell_type": "markdown",
   "metadata": {},
   "source": [
    "-check whether two sides of a tariangle are equal\n",
    "-triangle is equilateral or isosceles\n",
    "-character is vowel or not\n",
    "-odd or even"
   ]
  },
  {
   "cell_type": "code",
   "execution_count": 8,
   "metadata": {},
   "outputs": [
    {
     "name": "stdout",
     "output_type": "stream",
     "text": [
      "Odd\n"
     ]
    }
   ],
   "source": [
    "num=45\n",
    "if num / 2==0:\n",
    "    print(\"Even\")\n",
    "else:\n",
    "    print(\"Odd\")"
   ]
  },
  {
   "cell_type": "code",
   "execution_count": 2,
   "metadata": {},
   "outputs": [
    {
     "name": "stdout",
     "output_type": "stream",
     "text": [
      "Isosceles\n"
     ]
    }
   ],
   "source": [
    "a=56\n",
    "b=56\n",
    "c=34\n",
    "if a==b==c:\n",
    "    print(\"Equilateral\")\n",
    "elif a==b or b==c or c==a :\n",
    "    print(\"Isosceles\")\n",
    "else:\n",
    "    print('All sides are unequal/ Scalene')"
   ]
  },
  {
   "cell_type": "code",
   "execution_count": 14,
   "metadata": {},
   "outputs": [
    {
     "name": "stdout",
     "output_type": "stream",
     "text": [
      "vowel\n"
     ]
    }
   ],
   "source": [
    "char= 'a'\n",
    "list={'a','e','i','o','u'}\n",
    "if char in list:\n",
    "    print(\"vowel\")\n",
    "else:\n",
    "    print(\"not vowel\")"
   ]
  },
  {
   "cell_type": "code",
   "execution_count": null,
   "metadata": {},
   "outputs": [],
   "source": []
  }
 ],
 "metadata": {
  "kernelspec": {
   "display_name": "Python 3.9.12 ('base')",
   "language": "python",
   "name": "python3"
  },
  "language_info": {
   "codemirror_mode": {
    "name": "ipython",
    "version": 3
   },
   "file_extension": ".py",
   "mimetype": "text/x-python",
   "name": "python",
   "nbconvert_exporter": "python",
   "pygments_lexer": "ipython3",
   "version": "3.12.8"
  },
  "orig_nbformat": 4,
  "vscode": {
   "interpreter": {
    "hash": "103054210cdc8467ef652550f81257da9ab1b95d07e6053628567596254d0d33"
   }
  }
 },
 "nbformat": 4,
 "nbformat_minor": 2
}
