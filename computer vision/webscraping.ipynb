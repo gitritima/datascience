{
 "cells": [
  {
   "cell_type": "code",
   "execution_count": 21,
   "metadata": {},
   "outputs": [],
   "source": [
    "from dputils.scrape import Scraper,Tag\n",
    "from pprint import pp  #organized structure for dictionary"
   ]
  },
  {
   "cell_type": "markdown",
   "metadata": {},
   "source": [
    "-tag is a class which helps to decide what to collect from the page\n",
    "-Scraper executes the scraping process"
   ]
  },
  {
   "cell_type": "code",
   "execution_count": 22,
   "metadata": {},
   "outputs": [],
   "source": [
    "url=\"https://www.flipkart.com/search?q=mobile%20phones&otracker=search&otracker1=search&marketplace=FLIPKART&as-show=on&as=off\""
   ]
  },
  {
   "cell_type": "code",
   "execution_count": 23,
   "metadata": {},
   "outputs": [
    {
     "data": {
      "text/plain": [
       "<bound method Scraper.get_repeating_date_from_page of <dputils.scrape.Scraper object at 0x000002234C31FDD0>>"
      ]
     },
     "execution_count": 23,
     "metadata": {},
     "output_type": "execute_result"
    }
   ],
   "source": [
    "scraper=Scraper(url)\n",
    "scraper.get_repeating_date_from_page"
   ]
  },
  {
   "cell_type": "code",
   "execution_count": 26,
   "metadata": {},
   "outputs": [],
   "source": [
    "result=scraper.get_repeating_date_from_page(\n",
    "    target= Tag('div',cls=\"DOjaWF gdgoEp\"),\n",
    "    items=Tag('div',cls='_75nlfW'),\n",
    "    title=Tag('div',cls='KzDlHZ'),\n",
    "    price=Tag('div',cls=\"Nx9bqj _4b5DiR\")\n",
    ")"
   ]
  },
  {
   "cell_type": "code",
   "execution_count": 27,
   "metadata": {},
   "outputs": [
    {
     "data": {
      "text/plain": [
       "[{'title': 'realme P2 Pro 5G (Parrot Green, 256 GB)', 'price': '₹19,999'},\n",
       " {'title': 'POCO C61 (Ethereal Blue, 64 GB)', 'price': '₹5,899'},\n",
       " {'title': 'MOTOROLA g05 (Forest Green, 64 GB)', 'price': '₹6,999'},\n",
       " {'title': 'POCO C61  - Locked with Airtel Prepaid (Diamond Dust Black, 64 GB)',\n",
       "  'price': '₹5,399'},\n",
       " {'title': 'MOTOROLA g05 (Plum Red, 64 GB)', 'price': '₹6,999'},\n",
       " {'title': 'SAMSUNG Galaxy F05 (Twilight Blue, 64 GB)', 'price': '₹6,299'},\n",
       " {'title': 'POCO C61 (Diamond Dust Black, 64 GB)', 'price': '₹5,899'},\n",
       " {'title': 'POCO C75 5G (Aqua Bliss, 64 GB)', 'price': '₹7,999'},\n",
       " {'title': 'Motorola g45 5G (Viva Magenta, 128 GB)', 'price': '₹10,999'},\n",
       " {'title': 'Motorola g45 5G (Viva Magenta, 128 GB)', 'price': '₹11,999'},\n",
       " {'title': 'POCO C75 5G (Enchanted Green, 64 GB)', 'price': '₹7,999'},\n",
       " {'title': 'Motorola g45 5G (Brilliant Green, 128 GB)', 'price': '₹11,999'},\n",
       " {'title': 'POCO M6 Plus 5G (Ice Silver, 128 GB)', 'price': '₹10,999'},\n",
       " {'title': 'OPPO K12x 5G with 45W SUPERVOOC Charger In-The-Box (Breeze Blue, 128 GB)',\n",
       "  'price': '₹12,999'},\n",
       " {'title': 'Motorola Edge 50 Fusion (Marshmallow Blue, 128 GB)',\n",
       "  'price': '₹20,999'},\n",
       " {'title': 'MOTOROLA g35 5G (Leaf Green, 128 GB)', 'price': '₹9,999'},\n",
       " {'title': 'Motorola g45 5G (Brilliant Blue, 128 GB)', 'price': '₹11,999'},\n",
       " {'title': 'Motorola g45 5G (Pink Lavender, 128 GB)', 'price': '₹11,999'},\n",
       " {'title': 'realme P2 Pro 5G (Eagle Grey, 512 GB)', 'price': '₹22,999'},\n",
       " {'title': 'Motorola Edge 50 Fusion (Marshmallow Blue, 256 GB)',\n",
       "  'price': '₹22,999'},\n",
       " {'title': 'realme P1 5G (Phoenix Red, 128 GB)', 'price': '₹13,999'},\n",
       " {'title': 'MOTOROLA g35 5G (Midnight Black, 128 GB)', 'price': '₹9,999'},\n",
       " {'title': 'realme P1 5G (Feather Blue, 128 GB)', 'price': '₹13,999'},\n",
       " {'title': 'Motorola g64 5G (Mint Green, 256 GB)', 'price': '₹15,999'}]"
      ]
     },
     "execution_count": 27,
     "metadata": {},
     "output_type": "execute_result"
    }
   ],
   "source": [
    "result"
   ]
  },
  {
   "cell_type": "code",
   "execution_count": 29,
   "metadata": {},
   "outputs": [],
   "source": [
    "import pandas as pd"
   ]
  },
  {
   "cell_type": "code",
   "execution_count": 30,
   "metadata": {},
   "outputs": [
    {
     "data": {
      "text/html": [
       "<div>\n",
       "<style scoped>\n",
       "    .dataframe tbody tr th:only-of-type {\n",
       "        vertical-align: middle;\n",
       "    }\n",
       "\n",
       "    .dataframe tbody tr th {\n",
       "        vertical-align: top;\n",
       "    }\n",
       "\n",
       "    .dataframe thead th {\n",
       "        text-align: right;\n",
       "    }\n",
       "</style>\n",
       "<table border=\"1\" class=\"dataframe\">\n",
       "  <thead>\n",
       "    <tr style=\"text-align: right;\">\n",
       "      <th></th>\n",
       "      <th>title</th>\n",
       "      <th>price</th>\n",
       "    </tr>\n",
       "  </thead>\n",
       "  <tbody>\n",
       "    <tr>\n",
       "      <th>0</th>\n",
       "      <td>realme P2 Pro 5G (Parrot Green, 256 GB)</td>\n",
       "      <td>₹19,999</td>\n",
       "    </tr>\n",
       "    <tr>\n",
       "      <th>1</th>\n",
       "      <td>POCO C61 (Ethereal Blue, 64 GB)</td>\n",
       "      <td>₹5,899</td>\n",
       "    </tr>\n",
       "    <tr>\n",
       "      <th>2</th>\n",
       "      <td>MOTOROLA g05 (Forest Green, 64 GB)</td>\n",
       "      <td>₹6,999</td>\n",
       "    </tr>\n",
       "    <tr>\n",
       "      <th>3</th>\n",
       "      <td>POCO C61  - Locked with Airtel Prepaid (Diamon...</td>\n",
       "      <td>₹5,399</td>\n",
       "    </tr>\n",
       "    <tr>\n",
       "      <th>4</th>\n",
       "      <td>MOTOROLA g05 (Plum Red, 64 GB)</td>\n",
       "      <td>₹6,999</td>\n",
       "    </tr>\n",
       "    <tr>\n",
       "      <th>5</th>\n",
       "      <td>SAMSUNG Galaxy F05 (Twilight Blue, 64 GB)</td>\n",
       "      <td>₹6,299</td>\n",
       "    </tr>\n",
       "    <tr>\n",
       "      <th>6</th>\n",
       "      <td>POCO C61 (Diamond Dust Black, 64 GB)</td>\n",
       "      <td>₹5,899</td>\n",
       "    </tr>\n",
       "    <tr>\n",
       "      <th>7</th>\n",
       "      <td>POCO C75 5G (Aqua Bliss, 64 GB)</td>\n",
       "      <td>₹7,999</td>\n",
       "    </tr>\n",
       "    <tr>\n",
       "      <th>8</th>\n",
       "      <td>Motorola g45 5G (Viva Magenta, 128 GB)</td>\n",
       "      <td>₹10,999</td>\n",
       "    </tr>\n",
       "    <tr>\n",
       "      <th>9</th>\n",
       "      <td>Motorola g45 5G (Viva Magenta, 128 GB)</td>\n",
       "      <td>₹11,999</td>\n",
       "    </tr>\n",
       "    <tr>\n",
       "      <th>10</th>\n",
       "      <td>POCO C75 5G (Enchanted Green, 64 GB)</td>\n",
       "      <td>₹7,999</td>\n",
       "    </tr>\n",
       "    <tr>\n",
       "      <th>11</th>\n",
       "      <td>Motorola g45 5G (Brilliant Green, 128 GB)</td>\n",
       "      <td>₹11,999</td>\n",
       "    </tr>\n",
       "    <tr>\n",
       "      <th>12</th>\n",
       "      <td>POCO M6 Plus 5G (Ice Silver, 128 GB)</td>\n",
       "      <td>₹10,999</td>\n",
       "    </tr>\n",
       "    <tr>\n",
       "      <th>13</th>\n",
       "      <td>OPPO K12x 5G with 45W SUPERVOOC Charger In-The...</td>\n",
       "      <td>₹12,999</td>\n",
       "    </tr>\n",
       "    <tr>\n",
       "      <th>14</th>\n",
       "      <td>Motorola Edge 50 Fusion (Marshmallow Blue, 128...</td>\n",
       "      <td>₹20,999</td>\n",
       "    </tr>\n",
       "    <tr>\n",
       "      <th>15</th>\n",
       "      <td>MOTOROLA g35 5G (Leaf Green, 128 GB)</td>\n",
       "      <td>₹9,999</td>\n",
       "    </tr>\n",
       "    <tr>\n",
       "      <th>16</th>\n",
       "      <td>Motorola g45 5G (Brilliant Blue, 128 GB)</td>\n",
       "      <td>₹11,999</td>\n",
       "    </tr>\n",
       "    <tr>\n",
       "      <th>17</th>\n",
       "      <td>Motorola g45 5G (Pink Lavender, 128 GB)</td>\n",
       "      <td>₹11,999</td>\n",
       "    </tr>\n",
       "    <tr>\n",
       "      <th>18</th>\n",
       "      <td>realme P2 Pro 5G (Eagle Grey, 512 GB)</td>\n",
       "      <td>₹22,999</td>\n",
       "    </tr>\n",
       "    <tr>\n",
       "      <th>19</th>\n",
       "      <td>Motorola Edge 50 Fusion (Marshmallow Blue, 256...</td>\n",
       "      <td>₹22,999</td>\n",
       "    </tr>\n",
       "    <tr>\n",
       "      <th>20</th>\n",
       "      <td>realme P1 5G (Phoenix Red, 128 GB)</td>\n",
       "      <td>₹13,999</td>\n",
       "    </tr>\n",
       "    <tr>\n",
       "      <th>21</th>\n",
       "      <td>MOTOROLA g35 5G (Midnight Black, 128 GB)</td>\n",
       "      <td>₹9,999</td>\n",
       "    </tr>\n",
       "    <tr>\n",
       "      <th>22</th>\n",
       "      <td>realme P1 5G (Feather Blue, 128 GB)</td>\n",
       "      <td>₹13,999</td>\n",
       "    </tr>\n",
       "    <tr>\n",
       "      <th>23</th>\n",
       "      <td>Motorola g64 5G (Mint Green, 256 GB)</td>\n",
       "      <td>₹15,999</td>\n",
       "    </tr>\n",
       "  </tbody>\n",
       "</table>\n",
       "</div>"
      ],
      "text/plain": [
       "                                                title    price\n",
       "0             realme P2 Pro 5G (Parrot Green, 256 GB)  ₹19,999\n",
       "1                     POCO C61 (Ethereal Blue, 64 GB)   ₹5,899\n",
       "2                  MOTOROLA g05 (Forest Green, 64 GB)   ₹6,999\n",
       "3   POCO C61  - Locked with Airtel Prepaid (Diamon...   ₹5,399\n",
       "4                      MOTOROLA g05 (Plum Red, 64 GB)   ₹6,999\n",
       "5           SAMSUNG Galaxy F05 (Twilight Blue, 64 GB)   ₹6,299\n",
       "6                POCO C61 (Diamond Dust Black, 64 GB)   ₹5,899\n",
       "7                     POCO C75 5G (Aqua Bliss, 64 GB)   ₹7,999\n",
       "8              Motorola g45 5G (Viva Magenta, 128 GB)  ₹10,999\n",
       "9              Motorola g45 5G (Viva Magenta, 128 GB)  ₹11,999\n",
       "10               POCO C75 5G (Enchanted Green, 64 GB)   ₹7,999\n",
       "11          Motorola g45 5G (Brilliant Green, 128 GB)  ₹11,999\n",
       "12               POCO M6 Plus 5G (Ice Silver, 128 GB)  ₹10,999\n",
       "13  OPPO K12x 5G with 45W SUPERVOOC Charger In-The...  ₹12,999\n",
       "14  Motorola Edge 50 Fusion (Marshmallow Blue, 128...  ₹20,999\n",
       "15               MOTOROLA g35 5G (Leaf Green, 128 GB)   ₹9,999\n",
       "16           Motorola g45 5G (Brilliant Blue, 128 GB)  ₹11,999\n",
       "17            Motorola g45 5G (Pink Lavender, 128 GB)  ₹11,999\n",
       "18              realme P2 Pro 5G (Eagle Grey, 512 GB)  ₹22,999\n",
       "19  Motorola Edge 50 Fusion (Marshmallow Blue, 256...  ₹22,999\n",
       "20                 realme P1 5G (Phoenix Red, 128 GB)  ₹13,999\n",
       "21           MOTOROLA g35 5G (Midnight Black, 128 GB)   ₹9,999\n",
       "22                realme P1 5G (Feather Blue, 128 GB)  ₹13,999\n",
       "23               Motorola g64 5G (Mint Green, 256 GB)  ₹15,999"
      ]
     },
     "execution_count": 30,
     "metadata": {},
     "output_type": "execute_result"
    }
   ],
   "source": [
    "df=pd.DataFrame(result)\n",
    "df"
   ]
  }
 ],
 "metadata": {
  "kernelspec": {
   "display_name": "Python 3.12.8 ('base')",
   "language": "python",
   "name": "python3"
  },
  "language_info": {
   "codemirror_mode": {
    "name": "ipython",
    "version": 3
   },
   "file_extension": ".py",
   "mimetype": "text/x-python",
   "name": "python",
   "nbconvert_exporter": "python",
   "pygments_lexer": "ipython3",
   "version": "3.12.8"
  },
  "orig_nbformat": 4,
  "vscode": {
   "interpreter": {
    "hash": "103054210cdc8467ef652550f81257da9ab1b95d07e6053628567596254d0d33"
   }
  }
 },
 "nbformat": 4,
 "nbformat_minor": 2
}
