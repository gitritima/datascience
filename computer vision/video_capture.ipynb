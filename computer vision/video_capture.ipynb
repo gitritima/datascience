{
 "cells": [
  {
   "cell_type": "code",
   "execution_count": 4,
   "metadata": {},
   "outputs": [],
   "source": [
    "import cv2\n",
    "#Open the connection to webcam(0 for the default camera)\n",
    "cap=cv2.VideoCapture(0)\n",
    "\n",
    "while True:\n",
    "    #read a frame fro the webcam\n",
    "    ret,frame=cap.read()\n",
    "\n",
    "    if not ret:\n",
    "        break\n",
    "    #Display the frame\n",
    "    cv2.imshow(\"Webcam Video\",frame)\n",
    "\n",
    "    #Exit the loop when q is pressed\n",
    "    if cv2.waitKey(1)== ord('q'):\n",
    "        break\n",
    "\n",
    "#release the webcam and close all windows\n",
    "cap.release()\n",
    "cv2.destroyAllWindows()\n",
    "\n"
   ]
  }
 ],
 "metadata": {
  "kernelspec": {
   "display_name": "Python 3.12.8 ('base')",
   "language": "python",
   "name": "python3"
  },
  "language_info": {
   "codemirror_mode": {
    "name": "ipython",
    "version": 3
   },
   "file_extension": ".py",
   "mimetype": "text/x-python",
   "name": "python",
   "nbconvert_exporter": "python",
   "pygments_lexer": "ipython3",
   "version": "3.12.8"
  },
  "orig_nbformat": 4,
  "vscode": {
   "interpreter": {
    "hash": "103054210cdc8467ef652550f81257da9ab1b95d07e6053628567596254d0d33"
   }
  }
 },
 "nbformat": 4,
 "nbformat_minor": 2
}
