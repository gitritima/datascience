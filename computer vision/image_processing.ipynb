{
 "cells": [
  {
   "cell_type": "code",
   "execution_count": 3,
   "metadata": {},
   "outputs": [],
   "source": [
    "import cv2"
   ]
  },
  {
   "cell_type": "code",
   "execution_count": 4,
   "metadata": {},
   "outputs": [],
   "source": [
    "image=cv2.imread(r'C:\\Users\\ritim\\OneDrive\\Documents\\datascience\\car.jpg')\n",
    "if image is not None:\n",
    "    cv2.imshow('Image',image)\n",
    "    cv2.waitKey(0) # wait key is used to wait for a key to press to close the window ,0 means wait indefinitely\n",
    "    cv2.destroyAllWindows()\n",
    "else:\n",
    "    print('Image not found')"
   ]
  },
  {
   "cell_type": "code",
   "execution_count": 5,
   "metadata": {},
   "outputs": [],
   "source": [
    "gray_image=cv2.cvtColor(image,cv2.COLOR_BGR2GRAY)\n",
    "cv2.imshow('Gray Image',gray_image)\n",
    "cv2.waitKey(0)\n",
    "cv2.destroyAllWindows()"
   ]
  },
  {
   "cell_type": "code",
   "execution_count": 6,
   "metadata": {},
   "outputs": [],
   "source": [
    "blur=cv2.GaussianBlur(image,(15,15),0)\n",
    "cv2.imshow('Blurred Image',blur)\n",
    "cv2.waitKey(0)\n",
    "cv2.destroyAllWindows()"
   ]
  },
  {
   "cell_type": "code",
   "execution_count": 7,
   "metadata": {},
   "outputs": [],
   "source": [
    "edges=cv2.Canny(gray_image,100,200)\n",
    "cv2.imshow('Edges',edges)\n",
    "cv2.waitKey(0)\n",
    "cv2.destroyAllWindows()"
   ]
  },
  {
   "cell_type": "code",
   "execution_count": 8,
   "metadata": {},
   "outputs": [
    {
     "name": "stdout",
     "output_type": "stream",
     "text": [
      "(900, 1600, 3)\n"
     ]
    }
   ],
   "source": [
    "image=cv2.imread(r'C:\\Users\\ritim\\OneDrive\\Documents\\datascience\\car.jpg')\n",
    "print(image.shape)\n",
    "\n",
    "#resize image\n",
    "resize=cv2.resize(image,(500,300))\n",
    "cv2.imshow('Resized Image',resize)\n",
    "cv2.waitKey(0)\n",
    "cv2.destroyAllWindows()"
   ]
  },
  {
   "cell_type": "code",
   "execution_count": 9,
   "metadata": {},
   "outputs": [],
   "source": [
    "#crop image\n",
    "crop_image=image[50:200,200:500]\n",
    "cv2.imshow('Cropped Image Image',crop_image)\n",
    "cv2.waitKey(0)\n",
    "cv2.destroyAllWindows()"
   ]
  },
  {
   "cell_type": "code",
   "execution_count": null,
   "metadata": {},
   "outputs": [],
   "source": [
    "#labeling over image\n",
    "drawing=image.copy()\n",
    "cv2.rectangle(resize,(50,50),(200,200),(0,255,0),2)\n",
    " #image,startpoint ,endpoint, color_code,thickness\n",
    "cv2.imshow('Rectangle',resize)\n",
    "cv2.waitKey(0)\n",
    "cv2.destroyAllWindows()"
   ]
  }
 ],
 "metadata": {
  "kernelspec": {
   "display_name": "Python 3.12.8 ('base')",
   "language": "python",
   "name": "python3"
  },
  "language_info": {
   "codemirror_mode": {
    "name": "ipython",
    "version": 3
   },
   "file_extension": ".py",
   "mimetype": "text/x-python",
   "name": "python",
   "nbconvert_exporter": "python",
   "pygments_lexer": "ipython3",
   "version": "3.12.8"
  },
  "orig_nbformat": 4,
  "vscode": {
   "interpreter": {
    "hash": "103054210cdc8467ef652550f81257da9ab1b95d07e6053628567596254d0d33"
   }
  }
 },
 "nbformat": 4,
 "nbformat_minor": 2
}
