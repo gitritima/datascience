{
 "cells": [
  {
   "cell_type": "code",
   "execution_count": 1,
   "metadata": {},
   "outputs": [],
   "source": [
    "import cv2"
   ]
  },
  {
   "cell_type": "code",
   "execution_count": 3,
   "metadata": {},
   "outputs": [
    {
     "name": "stdout",
     "output_type": "stream",
     "text": [
      "Image not found\n"
     ]
    }
   ],
   "source": [
    "image=cv2.imread('car.jpg')\n",
    "if image is not None:\n",
    "    cv2.imshow('Image',image)\n",
    "    cv2.waitkey(0) # wait key is used to wait for a key to press to close the window ,0 means wait indefinitely\n",
    "    cv2.destroyAllWindows()\n",
    "else:\n",
    "    print('Image not found')"
   ]
  }
 ],
 "metadata": {
  "kernelspec": {
   "display_name": "Python 3.12.8 ('base')",
   "language": "python",
   "name": "python3"
  },
  "language_info": {
   "codemirror_mode": {
    "name": "ipython",
    "version": 3
   },
   "file_extension": ".py",
   "mimetype": "text/x-python",
   "name": "python",
   "nbconvert_exporter": "python",
   "pygments_lexer": "ipython3",
   "version": "3.12.8"
  },
  "orig_nbformat": 4,
  "vscode": {
   "interpreter": {
    "hash": "103054210cdc8467ef652550f81257da9ab1b95d07e6053628567596254d0d33"
   }
  }
 },
 "nbformat": 4,
 "nbformat_minor": 2
}
