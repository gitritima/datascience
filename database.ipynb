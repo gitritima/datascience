{
 "cells": [
  {
   "cell_type": "code",
   "execution_count": 10,
   "metadata": {},
   "outputs": [],
   "source": [
    "from sqlalchemy import create_engine,Column,Integer,String\n",
    "from sqlalchemy.orm import declarative_base,sessionmaker"
   ]
  },
  {
   "cell_type": "code",
   "execution_count": 11,
   "metadata": {},
   "outputs": [],
   "source": [
    "engine=create_engine('sqlite:///user.db')"
   ]
  },
  {
   "cell_type": "code",
   "execution_count": 12,
   "metadata": {},
   "outputs": [],
   "source": [
    "Base=declarative_base()"
   ]
  },
  {
   "cell_type": "code",
   "execution_count": 13,
   "metadata": {},
   "outputs": [],
   "source": [
    "Base.metadata.create_all(engine)"
   ]
  },
  {
   "cell_type": "code",
   "execution_count": 14,
   "metadata": {},
   "outputs": [],
   "source": [
    "class User(Base):\n",
    "    __tablename__ = 'users'\n",
    "    id = Column(Integer, primary_key=True)\n",
    "    name = Column(String)\n",
    "    password = Column(String)"
   ]
  },
  {
   "cell_type": "code",
   "execution_count": 15,
   "metadata": {},
   "outputs": [],
   "source": [
    "Session=sessionmaker(bind=engine)\n",
    "session=Session()"
   ]
  },
  {
   "cell_type": "code",
   "execution_count": 17,
   "metadata": {},
   "outputs": [
    {
     "ename": "PendingRollbackError",
     "evalue": "This Session's transaction has been rolled back due to a previous exception during flush. To begin a new transaction with this Session, first issue Session.rollback(). Original exception was: (sqlite3.OperationalError) no such table: users\n[SQL: INSERT INTO users (name, password) VALUES (?, ?)]\n[parameters: ('Alice', '4567')]\n(Background on this error at: https://sqlalche.me/e/20/e3q8) (Background on this error at: https://sqlalche.me/e/20/7s2a)",
     "output_type": "error",
     "traceback": [
      "\u001b[1;31m---------------------------------------------------------------------------\u001b[0m",
      "\u001b[1;31mPendingRollbackError\u001b[0m                      Traceback (most recent call last)",
      "Cell \u001b[1;32mIn[17], line 3\u001b[0m\n\u001b[0;32m      1\u001b[0m new_user\u001b[38;5;241m=\u001b[39mUser(name\u001b[38;5;241m=\u001b[39m\u001b[38;5;124m'\u001b[39m\u001b[38;5;124mAlice\u001b[39m\u001b[38;5;124m'\u001b[39m,password\u001b[38;5;241m=\u001b[39m\u001b[38;5;124m'\u001b[39m\u001b[38;5;124m'\u001b[39m)\n\u001b[0;32m      2\u001b[0m session\u001b[38;5;241m.\u001b[39madd(new_user)\n\u001b[1;32m----> 3\u001b[0m session\u001b[38;5;241m.\u001b[39mcommit()\n",
      "File \u001b[1;32mc:\\Users\\ritim\\miniconda3\\Lib\\site-packages\\sqlalchemy\\orm\\session.py:2032\u001b[0m, in \u001b[0;36mSession.commit\u001b[1;34m(self)\u001b[0m\n\u001b[0;32m   2029\u001b[0m \u001b[39mif\u001b[39;00m trans \u001b[39mis\u001b[39;00m \u001b[39mNone\u001b[39;00m:\n\u001b[0;32m   2030\u001b[0m     trans \u001b[39m=\u001b[39m \u001b[39mself\u001b[39m\u001b[39m.\u001b[39m_autobegin_t()\n\u001b[1;32m-> 2032\u001b[0m trans\u001b[39m.\u001b[39mcommit(_to_root\u001b[39m=\u001b[39m\u001b[39mTrue\u001b[39;00m)\n",
      "File \u001b[1;32m<string>:2\u001b[0m, in \u001b[0;36mcommit\u001b[1;34m(self, _to_root)\u001b[0m\n",
      "File \u001b[1;32mc:\\Users\\ritim\\miniconda3\\Lib\\site-packages\\sqlalchemy\\orm\\state_changes.py:103\u001b[0m, in \u001b[0;36m_StateChange.declare_states.<locals>._go\u001b[1;34m(fn, self, *arg, **kw)\u001b[0m\n\u001b[0;32m     97\u001b[0m current_state \u001b[39m=\u001b[39m \u001b[39mself\u001b[39m\u001b[39m.\u001b[39m_state\n\u001b[0;32m     99\u001b[0m \u001b[39mif\u001b[39;00m (\n\u001b[0;32m    100\u001b[0m     has_prerequisite_states\n\u001b[0;32m    101\u001b[0m     \u001b[39mand\u001b[39;00m current_state \u001b[39mnot\u001b[39;00m \u001b[39min\u001b[39;00m prerequisite_state_collection\n\u001b[0;32m    102\u001b[0m ):\n\u001b[1;32m--> 103\u001b[0m     \u001b[39mself\u001b[39m\u001b[39m.\u001b[39m_raise_for_prerequisite_state(fn\u001b[39m.\u001b[39m\u001b[39m__name__\u001b[39m, current_state)\n\u001b[0;32m    105\u001b[0m next_state \u001b[39m=\u001b[39m \u001b[39mself\u001b[39m\u001b[39m.\u001b[39m_next_state\n\u001b[0;32m    106\u001b[0m existing_fn \u001b[39m=\u001b[39m \u001b[39mself\u001b[39m\u001b[39m.\u001b[39m_current_fn\n",
      "File \u001b[1;32mc:\\Users\\ritim\\miniconda3\\Lib\\site-packages\\sqlalchemy\\orm\\session.py:973\u001b[0m, in \u001b[0;36mSessionTransaction._raise_for_prerequisite_state\u001b[1;34m(self, operation_name, state)\u001b[0m\n\u001b[0;32m    971\u001b[0m \u001b[39mif\u001b[39;00m state \u001b[39mis\u001b[39;00m SessionTransactionState\u001b[39m.\u001b[39mDEACTIVE:\n\u001b[0;32m    972\u001b[0m     \u001b[39mif\u001b[39;00m \u001b[39mself\u001b[39m\u001b[39m.\u001b[39m_rollback_exception:\n\u001b[1;32m--> 973\u001b[0m         \u001b[39mraise\u001b[39;00m sa_exc\u001b[39m.\u001b[39mPendingRollbackError(\n\u001b[0;32m    974\u001b[0m             \u001b[39m\"\u001b[39m\u001b[39mThis Session\u001b[39m\u001b[39m'\u001b[39m\u001b[39ms transaction has been rolled back \u001b[39m\u001b[39m\"\u001b[39m\n\u001b[0;32m    975\u001b[0m             \u001b[39m\"\u001b[39m\u001b[39mdue to a previous exception during flush.\u001b[39m\u001b[39m\"\u001b[39m\n\u001b[0;32m    976\u001b[0m             \u001b[39m\"\u001b[39m\u001b[39m To begin a new transaction with this Session, \u001b[39m\u001b[39m\"\u001b[39m\n\u001b[0;32m    977\u001b[0m             \u001b[39m\"\u001b[39m\u001b[39mfirst issue Session.rollback().\u001b[39m\u001b[39m\"\u001b[39m\n\u001b[0;32m    978\u001b[0m             \u001b[39mf\u001b[39m\u001b[39m\"\u001b[39m\u001b[39m Original exception was: \u001b[39m\u001b[39m{\u001b[39;00m\u001b[39mself\u001b[39m\u001b[39m.\u001b[39m_rollback_exception\u001b[39m}\u001b[39;00m\u001b[39m\"\u001b[39m,\n\u001b[0;32m    979\u001b[0m             code\u001b[39m=\u001b[39m\u001b[39m\"\u001b[39m\u001b[39m7s2a\u001b[39m\u001b[39m\"\u001b[39m,\n\u001b[0;32m    980\u001b[0m         )\n\u001b[0;32m    981\u001b[0m     \u001b[39melse\u001b[39;00m:\n\u001b[0;32m    982\u001b[0m         \u001b[39mraise\u001b[39;00m sa_exc\u001b[39m.\u001b[39mInvalidRequestError(\n\u001b[0;32m    983\u001b[0m             \u001b[39m\"\u001b[39m\u001b[39mThis session is in \u001b[39m\u001b[39m'\u001b[39m\u001b[39minactive\u001b[39m\u001b[39m'\u001b[39m\u001b[39m state, due to the \u001b[39m\u001b[39m\"\u001b[39m\n\u001b[0;32m    984\u001b[0m             \u001b[39m\"\u001b[39m\u001b[39mSQL transaction being rolled back; no further SQL \u001b[39m\u001b[39m\"\u001b[39m\n\u001b[0;32m    985\u001b[0m             \u001b[39m\"\u001b[39m\u001b[39mcan be emitted within this transaction.\u001b[39m\u001b[39m\"\u001b[39m\n\u001b[0;32m    986\u001b[0m         )\n",
      "\u001b[1;31mPendingRollbackError\u001b[0m: This Session's transaction has been rolled back due to a previous exception during flush. To begin a new transaction with this Session, first issue Session.rollback(). Original exception was: (sqlite3.OperationalError) no such table: users\n[SQL: INSERT INTO users (name, password) VALUES (?, ?)]\n[parameters: ('Alice', '4567')]\n(Background on this error at: https://sqlalche.me/e/20/e3q8) (Background on this error at: https://sqlalche.me/e/20/7s2a)"
     ]
    }
   ],
   "source": [
    "new_user=User(name='Alice',password='')\n",
    "session.add(new_user)\n",
    "session.commit()"
   ]
  },
  {
   "cell_type": "code",
   "execution_count": null,
   "metadata": {},
   "outputs": [],
   "source": [
    "new_user=User(name='bob',password='4567')\n",
    "session.add(new_user)\n",
    "session.commit()"
   ]
  },
  {
   "cell_type": "code",
   "execution_count": null,
   "metadata": {},
   "outputs": [],
   "source": [
    "#retreive users\n",
    "users=session.query(User).all\n",
    "for user in users:\n",
    "    print(f'ID: {user.id},Name:{user.name},Password:{user.password}')"
   ]
  },
  {
   "cell_type": "code",
   "execution_count": null,
   "metadata": {},
   "outputs": [],
   "source": [
    "user=session.query(User).filter_by(id=1).first()\n",
    "user.name='Bob Smith'\n",
    "session.commit()"
   ]
  },
  {
   "cell_type": "code",
   "execution_count": null,
   "metadata": {},
   "outputs": [],
   "source": [
    "users=session.query(User).all\n",
    "for user in users:\n",
    "    print(f'ID: {user.id},Name:{user.name},Password:{user.password}')"
   ]
  }
 ],
 "metadata": {
  "kernelspec": {
   "display_name": "Python 3.12.8 ('base')",
   "language": "python",
   "name": "python3"
  },
  "language_info": {
   "codemirror_mode": {
    "name": "ipython",
    "version": 3
   },
   "file_extension": ".py",
   "mimetype": "text/x-python",
   "name": "python",
   "nbconvert_exporter": "python",
   "pygments_lexer": "ipython3",
   "version": "3.12.8"
  },
  "orig_nbformat": 4,
  "vscode": {
   "interpreter": {
    "hash": "103054210cdc8467ef652550f81257da9ab1b95d07e6053628567596254d0d33"
   }
  }
 },
 "nbformat": 4,
 "nbformat_minor": 2
}
